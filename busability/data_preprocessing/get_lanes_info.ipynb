{
 "cells": [
  {
   "cell_type": "code",
   "execution_count": 25,
   "id": "15b975b7-f589-483d-8092-345816b75a37",
   "metadata": {},
   "outputs": [],
   "source": [
    "import geopandas as gpd\n",
    "import pandas as pd\n",
    "from shapely import Point, LineString, MultiLineString\n",
    "from shapely import distance, from_wkt, intersects, buffer, set_precision, shortest_line\n",
    "from shapely.ops import split, snap\n",
    "from shapely.ops import nearest_points\n",
    "from tqdm import tqdm\n",
    "import ast"
   ]
  },
  {
   "cell_type": "code",
   "execution_count": 26,
   "id": "ea6ce9c1-a57d-4030-9a3e-5177c3ce4b4d",
   "metadata": {},
   "outputs": [],
   "source": [
    "# use settings for Lima or London here\n",
    "\n",
    "\n",
    "# Lima ~ 15 min calculation\n",
    "\n",
    "crs = 32718\n",
    "\n",
    "roads_data_path = \"data/roads_lima.geojson\"\n",
    "bus_route_path = 'data/processed_results_lima.csv'\n",
    "\n",
    "output_path = \"lima_lanes.csv\"\n",
    "\n",
    "\n",
    "# # London\n",
    "\n",
    "# crs = 32630\n",
    "\n",
    "# roads_data_path = \"data/roads_london.geojson\"\n",
    "# bus_route_path = 'data/processed_results_london.csv'\n",
    "\n",
    "# output_path = \"london_lanes.csv\""
   ]
  },
  {
   "cell_type": "code",
   "execution_count": 27,
   "id": "6a8c32a7-1c93-44a7-9333-384e9d33d9a3",
   "metadata": {},
   "outputs": [],
   "source": [
    "df = pd.read_csv(bus_route_path, delimiter=',', header=None, names=[\"start_id\", \"stop_id\", \"geometry\"], skiprows=1, index_col=False)\n",
    "osm_gdf = gpd.read_file(roads_data_path)"
   ]
  },
  {
   "cell_type": "code",
   "execution_count": 28,
   "id": "423cb83d-e22c-4b34-b871-422915808bf8",
   "metadata": {},
   "outputs": [],
   "source": [
    "data = {\n",
    "    \"start_ids\": df[\"start_id\"],\n",
    "    \"end_ids\": df[\"stop_id\"]\n",
    "}\n",
    "geometry = [from_wkt(geom) for geom in df[\"geometry\"]]\n",
    "out_gdf = gpd.GeoDataFrame(data, geometry=geometry, crs=crs)\n",
    "out_gdf = out_gdf.to_crs(crs)"
   ]
  },
  {
   "cell_type": "code",
   "execution_count": 29,
   "id": "ae2a3b58-73bd-4c23-af7b-52a39bc98d22",
   "metadata": {},
   "outputs": [],
   "source": [
    "osm_gdf = osm_gdf.to_crs(crs)\n",
    "osm_gdf[\"tags\"] = osm_gdf[\"tags\"].apply(lambda x: ast.literal_eval(x))\n",
    "osm_gdf['lanes'] = osm_gdf['tags'].apply(\n",
    "    lambda x: x.get('lanes') if isinstance(x, dict) and 'lanes' in x else None\n",
    ")\n",
    "osm_gdf['oneway'] = osm_gdf['tags'].apply(\n",
    "    lambda x: x.get('oneway') if isinstance(x, dict) and 'oneway' in x else None\n",
    ")"
   ]
  },
  {
   "cell_type": "code",
   "execution_count": 30,
   "id": "7bf110cf-d485-4cb6-902b-e68b7db064d5",
   "metadata": {},
   "outputs": [
    {
     "name": "stderr",
     "output_type": "stream",
     "text": [
      "Processing rows: 100%|██████████████████| 63230/63230 [07:50<00:00, 134.28row/s]\n"
     ]
    }
   ],
   "source": [
    "osm_sindex = osm_gdf.sindex\n",
    "\n",
    "length_over_3_lanes = []\n",
    "length_3_or_less_lanes = []\n",
    "none_length = 0\n",
    "\n",
    "clipped_rows = []\n",
    "\n",
    "for index, row in tqdm(out_gdf.iterrows(), total=out_gdf.shape[0], desc=\"Processing rows\", unit=\"row\"):\n",
    "    original_length = row['geometry'].length\n",
    "    buffered_geom = row['geometry'].buffer(distance=6)\n",
    "    possible_matches_index = list(osm_sindex.intersection(buffered_geom.bounds))\n",
    "    possible_matches = osm_gdf.iloc[possible_matches_index]\n",
    "    intersecting = possible_matches[possible_matches.intersects(buffered_geom)]\n",
    "\n",
    "    length_more_3 = 0\n",
    "    len_less_3 = 0\n",
    "    \n",
    "    if not intersecting.empty:\n",
    "        clipped = intersecting.copy()\n",
    "        \n",
    "        # Buffer and intersection calculations\n",
    "        within_buffer = clipped[clipped['geometry'].within(buffered_geom)]\n",
    "        clipped['geometry'] = clipped['geometry'].intersection(buffered_geom)\n",
    "        clipped = clipped[clipped.length >= 10]\n",
    "        \n",
    "        # Aggregate lengths based on lanes\n",
    "        for _, clipped_row in clipped.iterrows():\n",
    "            lanes = clipped_row['lanes']\n",
    "            oneway = clipped_row['oneway']\n",
    "            length = clipped_row['geometry'].length\n",
    "\n",
    "            if lanes is None:\n",
    "                none_length += length\n",
    "            \n",
    "            if (lanes is not None and lanes.isdigit() and int(lanes) > 3) or (lanes is not None and lanes.isdigit() and int(lanes) > 1 and oneway == \"yes\"):\n",
    "                length_more_3 += length\n",
    "            else:\n",
    "                len_less_3 += length\n",
    "            \n",
    "    length_over_3_lanes.append(length_more_3)\n",
    "    length_3_or_less_lanes.append(len_less_3)\n"
   ]
  },
  {
   "cell_type": "code",
   "execution_count": 31,
   "id": "ee0794e4-c847-42b1-8af9-a5f6da72023c",
   "metadata": {},
   "outputs": [],
   "source": [
    "out_gdf[\"original_length\"] = out_gdf[\"geometry\"].length\n",
    "out_gdf[\"len_two_lanes\"] = length_3_or_less_lanes\n",
    "out_gdf[\"len_more_than_two_lanes\"] = length_over_3_lanes"
   ]
  },
  {
   "cell_type": "code",
   "execution_count": 32,
   "id": "eac1b22b-39c5-4def-82bb-3daacbbb3967",
   "metadata": {},
   "outputs": [],
   "source": [
    "def adjust_lengths(row):\n",
    "    L1, L2, true_length = row['len_two_lanes'], row['len_more_than_two_lanes'], row['original_length']\n",
    "    total_length = L1 + L2\n",
    "\n",
    "    if total_length == 0:\n",
    "        return pd.Series([0, 0])\n",
    "    \n",
    "    scaling_factor = true_length / total_length\n",
    "    L1_adjusted = L1 * scaling_factor\n",
    "    L2_adjusted = L2 * scaling_factor\n",
    "    return pd.Series([L1_adjusted, L2_adjusted])"
   ]
  },
  {
   "cell_type": "code",
   "execution_count": 33,
   "id": "0c51e596-4921-4fd5-8ca8-7c8e34487db2",
   "metadata": {},
   "outputs": [],
   "source": [
    "out_gdf = out_gdf.drop(columns=[\"geometry\", \"original_length\"])\n",
    "out_gdf.to_csv(output_path, index=False)"
   ]
  }
 ],
 "metadata": {
  "kernelspec": {
   "display_name": "Python 3 (ipykernel)",
   "language": "python",
   "name": "python3"
  },
  "language_info": {
   "codemirror_mode": {
    "name": "ipython",
    "version": 3
   },
   "file_extension": ".py",
   "mimetype": "text/x-python",
   "name": "python",
   "nbconvert_exporter": "python",
   "pygments_lexer": "ipython3",
   "version": "3.11.11"
  }
 },
 "nbformat": 4,
 "nbformat_minor": 5
}
