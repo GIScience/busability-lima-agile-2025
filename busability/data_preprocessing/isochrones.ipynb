{
 "cells": [
  {
   "cell_type": "code",
   "execution_count": null,
   "id": "8a140e07-48be-4703-a304-0e6452a111dd",
   "metadata": {},
   "outputs": [],
   "source": [
    "import os\n",
    "import uuid\n",
    "\n",
    "from IPython.display import display\n",
    "\n",
    "import folium\n",
    "from folium.plugins import MarkerCluster\n",
    "\n",
    "import openrouteservice\n",
    "\n",
    "import time\n",
    "import pandas as pd\n",
    "import geopandas as gpd\n",
    "import fiona as fn\n",
    "from shapely.geometry import shape, mapping\n",
    "from shapely.ops import cascaded_union\n",
    "\n",
    "from tqdm.notebook import tqdm"
   ]
  },
  {
   "cell_type": "code",
   "execution_count": null,
   "id": "2b72eb22-c76e-48eb-9564-7df87bcff244",
   "metadata": {},
   "outputs": [],
   "source": [
    "#load centroids or stops, depending on the isochrones you want to create \n",
    "stations = \"bus_stops.gpkg\"\n",
    "df = gpd.read_file(stations)"
   ]
  },
  {
   "cell_type": "code",
   "execution_count": null,
   "outputs": [],
   "source": [],
   "metadata": {
    "collapsed": false
   },
   "id": "5aeeb2fcc288270e"
  },
  {
   "cell_type": "code",
   "execution_count": null,
   "id": "1c474cb1-b801-4369-82fa-3cfd260c7340",
   "metadata": {},
   "outputs": [],
   "source": [
    "df  = df.to_crs({'init': 'epsg:4326'})"
   ]
  },
  {
   "cell_type": "markdown",
   "source": [
    "## Create Isochrones"
   ],
   "metadata": {
    "collapsed": false
   },
   "id": "1410ff0f5d7bf667"
  },
  {
   "cell_type": "code",
   "execution_count": null,
   "id": "f92b3271-1eb5-4ede-bfd2-d69f80c32145",
   "metadata": {},
   "outputs": [],
   "source": [
    "from tqdm.notebook import tqdm\n",
    "from openrouteservice import client \n",
    "import geopandas as gpd\n",
    "\n",
    "normal_isochrones = []\n",
    "err_iso = []\n",
    "\n",
    "\n",
    "#You also need to modify the isochrones parameters. \n",
    "#If you are calculating normal isochrones (no rush), you need to set 'time' as range_type, and write 3600 (30 minutes) in range.\n",
    "#If you are calculating rush hour isochrones, you need to set 'distance' as range_type and enter the distance in range in meters. For Lima, we calculated that during rush hour, you can drive 9380 meters while for London, it's 13640. \n",
    "\n",
    "profile = 'driving-car'\n",
    "range_type = 'distance'\n",
    "\n",
    "\n",
    "isochrones_parameters = {\n",
    "    'profile': profile,\n",
    "    'range_type': range_type,\n",
    "    'range': [13640],\n",
    "}\n",
    "\n",
    "\n",
    "\n",
    "\n",
    "ors_client = client.Client(base_url='http://localhost:8081/ors')\n",
    "\n",
    "# Use tqdm to wrap the iteration over the GeoDataFrame\n",
    "for _, row in tqdm(df.iterrows(), total=len(df)):\n",
    "\n",
    "    try:\n",
    "        coordinate = (row.geometry.x, row.geometry.y)\n",
    "        stop_id = row['uuid']  # Extract stop_id for the current row\n",
    "    \n",
    "        # Calculate isochrone for the single coordinate\n",
    "        isochrones_parameters['locations'] = [coordinate]  # Ensure it's a list with one coordinate\n",
    "        isochrone_normal = ors_client.isochrones(**isochrones_parameters)\n",
    "        isochrone_normal_df = gpd.GeoDataFrame().from_features(isochrone_normal)\n",
    "        # Add stop_id column to the isochrone GeoDataFrame\n",
    "        isochrone_normal_df['uuid'] = stop_id\n",
    "        # Append the single isochrone to the list\n",
    "        normal_isochrones.append(isochrone_normal_df)\n",
    "        \n",
    "    except:\n",
    "        print(row['uuid'])\n",
    "        err_iso.append(row)\n",
    "        continue"
   ]
  },
  {
   "cell_type": "markdown",
   "source": [
    "## Save the dataset as a geopackage"
   ],
   "metadata": {
    "collapsed": false
   },
   "id": "55f493bbef53cdd8"
  },
  {
   "cell_type": "code",
   "execution_count": null,
   "id": "edd9784e-fb5d-441f-be62-ff381a3aec79",
   "metadata": {},
   "outputs": [],
   "source": [
    "#Save with a chosen name\n",
    "isochrones_all = pd.concat(normal_isochrones).set_crs(epsg=4326)\n",
    "isochrones_all\n",
    "\n",
    "isochrones_all.to_file(\"isochrones_normal.gpkg\") #or isochrones_rush"
   ]
  }
 ],
 "metadata": {
  "kernelspec": {
   "display_name": "Python 3 (ipykernel)",
   "language": "python",
   "name": "python3"
  },
  "language_info": {
   "codemirror_mode": {
    "name": "ipython",
    "version": 3
   },
   "file_extension": ".py",
   "mimetype": "text/x-python",
   "name": "python",
   "nbconvert_exporter": "python",
   "pygments_lexer": "ipython3",
   "version": "3.11.8"
  }
 },
 "nbformat": 4,
 "nbformat_minor": 5
}
